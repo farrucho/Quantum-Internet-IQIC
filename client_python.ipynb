{
 "cells": [
  {
   "cell_type": "code",
   "execution_count": 1,
   "metadata": {},
   "outputs": [],
   "source": [
    "# Import socket module \n",
    "import socket, pickle        \n",
    " \n",
    "# Create a socket object \n",
    "s = socket.socket()         \n",
    " \n",
    "# Define the port on which you want to connect \n",
    "port = 12345               \n",
    " \n",
    "# connect to the server on local computer \n",
    "s.connect(('127.0.0.1', port)) \n",
    " \n",
    "# receive data from the server and decoding to get the string.\n",
    "qc_pickled = s.recv(2048)\n",
    "qc = pickle.loads(qc_pickled)\n",
    "\n",
    "# close the connection \n",
    "s.close()     "
   ]
  },
  {
   "cell_type": "code",
   "execution_count": null,
   "metadata": {},
   "outputs": [],
   "source": [
    "# Receive the statevector from Charlie\n",
    "with socket.socket(socket.AF_INET, socket.SOCK_STREAM) as s:\n",
    "    s.connect(('localhost', 65431))\n",
    "    data = s.recv(4096)\n"
   ]
  }
 ],
 "metadata": {
  "kernelspec": {
   "display_name": "qiskit",
   "language": "python",
   "name": "python3"
  },
  "language_info": {
   "codemirror_mode": {
    "name": "ipython",
    "version": 3
   },
   "file_extension": ".py",
   "mimetype": "text/x-python",
   "name": "python",
   "nbconvert_exporter": "python",
   "pygments_lexer": "ipython3",
   "version": "3.10.14"
  }
 },
 "nbformat": 4,
 "nbformat_minor": 2
}
