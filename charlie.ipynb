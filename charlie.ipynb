{
 "cells": [
  {
   "cell_type": "code",
   "execution_count": 43,
   "metadata": {},
   "outputs": [],
   "source": [
    "import netsquid as ns\n",
    "from netsquid.nodes import Node, Network\n",
    "from netsquid.components import QuantumChannel, ClassicalChannel, QuantumProcessor\n",
    "from netsquid.qubits import qubitapi as qapi\n",
    "from netsquid.qubits.qubitapi import create_qubits, operate, reduced_dm, measure\n",
    "from sympy import Matrix\n",
    "from sympy.printing.latex import latex\n",
    "from IPython.display import display, Math\n",
    "\n",
    "import socket\n",
    "import pickle"
   ]
  },
  {
   "cell_type": "code",
   "execution_count": 44,
   "metadata": {},
   "outputs": [],
   "source": [
    "# Function to print the density matrix of the qubits in a node's quantum memory\n",
    "def print_density_matrix(node, qubit_indices):\n",
    "    qubits = [node.qmemory.peek(i)[0] for i in qubit_indices]\n",
    "    dm = reduced_dm(qubits)\n",
    "    dm_matrix = Matrix(dm)\n",
    "    print(f\"Density matrix for {node.name}:\")\n",
    "    display(Math(latex(dm_matrix)))\n",
    "    return dm\n",
    "\n",
    "def print_density_matrix_whole_system(nodes):\n",
    "    qubits = []\n",
    "    for node in nodes:\n",
    "        for i in range(node.qmemory.num_positions):\n",
    "            qubit = node.qmemory.peek(i)[0]\n",
    "            if qubit is not None:\n",
    "                qubits.append(qubit)\n",
    "    dm = reduced_dm(qubits)\n",
    "    dm_matrix = Matrix(dm)\n",
    "    print(\"Density matrix for the whole system:\")\n",
    "    display(Math(latex(dm_matrix)))\n",
    "    return dm\n",
    "\n",
    "# Function to create and distribute Bell states\n",
    "def create_bell_state(node1, node2, pos1, pos2):\n",
    "    qubits = create_qubits(2)\n",
    "    qapi.operate(qubits[0], ns.H)\n",
    "    qapi.operate([qubits[0], qubits[1]], ns.CX)\n",
    "    node1.qmemory.put(qubits[0], positions=[pos1])\n",
    "    node2.qmemory.put(qubits[1], positions=[pos2])\n",
    "\n",
    "def bell_basis_measurement(node, pos1, pos2):\n",
    "    qapi.operate([node.qmemory.peek(pos1)[0], node.qmemory.peek(pos2)[0]], ns.CX)\n",
    "    qapi.operate(node.qmemory.peek(pos1)[0], ns.H)\n",
    "    m1, _ = measure(node.qmemory.peek(pos1)[0])\n",
    "    m2, _ = measure(node.qmemory.peek(pos2)[0])\n",
    "    return m1, m2"
   ]
  },
  {
   "cell_type": "code",
   "execution_count": 45,
   "metadata": {},
   "outputs": [],
   "source": [
    "# Create nodes for Alice, Charlie, and Bob with enough quantum memory slots\n",
    "alice = Node(\"Alice\", qmemory=QuantumProcessor(\"AliceProcessor\", num_positions=1))\n",
    "charlie = Node(\"Charlie\", qmemory=QuantumProcessor(\"CharlieProcessor\", num_positions=2))\n",
    "bob = Node(\"Bob\", qmemory=QuantumProcessor(\"BobProcessor\", num_positions=1))"
   ]
  },
  {
   "cell_type": "code",
   "execution_count": 46,
   "metadata": {},
   "outputs": [],
   "source": [
    "# Create a network and add the nodes\n",
    "network = Network(\"Quantum Network\")\n",
    "network.add_nodes([alice, charlie, bob])\n",
    "\n",
    "# Create quantum channels between the nodes\n",
    "channel_ac = QuantumChannel(\"Alice_to_Charlie\", length=10)\n",
    "channel_ca = QuantumChannel(\"Charlie_to_Alice\", length=10)\n",
    "channel_cb = QuantumChannel(\"Charlie_to_Bob\", length=10)\n",
    "channel_bc = QuantumChannel(\"Bob_to_Charlie\", length=10)\n",
    "\n",
    "# Add quantum channels to the network\n",
    "network.add_connection(alice, charlie, channel_to=channel_ac, channel_from=channel_ca, label=\"quantum\")\n",
    "network.add_connection(charlie, bob, channel_to=channel_cb, channel_from=channel_bc, label=\"quantum\")\n",
    "\n",
    "# Create classical channels for communication\n",
    "classical_channel_ac = ClassicalChannel(\"Alice_to_Charlie_Classical\", length=10)\n",
    "classical_channel_ca = ClassicalChannel(\"Charlie_to_Alice_Classical\", length=10)\n",
    "classical_channel_cb = ClassicalChannel(\"Charlie_to_Bob_Classical\", length=10)\n",
    "classical_channel_bc = ClassicalChannel(\"Bob_to_Charlie_Classical\", length=10)\n",
    "\n",
    "# Add classical channels to the network\n",
    "network.add_connection(alice, charlie, channel_to=classical_channel_ac, channel_from=classical_channel_ca, label=\"classical\")\n",
    "network.add_connection(charlie, bob, channel_to=classical_channel_cb, channel_from=classical_channel_bc, label=\"classical\")\n",
    "\n",
    "# Create and distribute Bell states\n",
    "create_bell_state(alice, charlie, 0, 0)\n",
    "create_bell_state(bob, charlie, 0, 1)"
   ]
  },
  {
   "cell_type": "code",
   "execution_count": 47,
   "metadata": {},
   "outputs": [
    {
     "name": "stdout",
     "output_type": "stream",
     "text": [
      "Bell basis measurement results for Charlie's qubits: 1, 0\n"
     ]
    }
   ],
   "source": [
    "# Perform Bell basis measurement on Charlie's qubits\n",
    "m1, m2 = bell_basis_measurement(charlie, 0, 1)\n",
    "print(f\"Bell basis measurement results for Charlie's qubits: {m1}, {m2}\")"
   ]
  },
  {
   "cell_type": "code",
   "execution_count": 48,
   "metadata": {},
   "outputs": [
    {
     "name": "stdout",
     "output_type": "stream",
     "text": [
      "Density matrix for Alice:\n"
     ]
    },
    {
     "data": {
      "text/latex": [
       "$\\displaystyle \\left[\\begin{matrix}0.5 & 0\\\\0 & 0.5\\end{matrix}\\right]$"
      ],
      "text/plain": [
       "<IPython.core.display.Math object>"
      ]
     },
     "metadata": {},
     "output_type": "display_data"
    },
    {
     "name": "stdout",
     "output_type": "stream",
     "text": [
      "Density matrix for Bob:\n"
     ]
    },
    {
     "data": {
      "text/latex": [
       "$\\displaystyle \\left[\\begin{matrix}0.5 & 0\\\\0 & 0.5\\end{matrix}\\right]$"
      ],
      "text/plain": [
       "<IPython.core.display.Math object>"
      ]
     },
     "metadata": {},
     "output_type": "display_data"
    },
    {
     "name": "stdout",
     "output_type": "stream",
     "text": [
      "Got connection from ('127.0.0.1', 52920)\n"
     ]
    }
   ],
   "source": [
    "alice_state = print_density_matrix(alice, [0])\n",
    "bob_state = print_density_matrix(bob, [0])\n",
    "\n",
    "#send alice and bob states by socket\n",
    "packet = pickle.dumps([[alice_state, bob_state], [m1, m2]])\n",
    "\n",
    "s = socket.socket()\t\t \n",
    "\n",
    "port = 12346\n",
    "host = 'localhost'\t\t\n",
    "s.bind((host, port))\t\t \n",
    "s.listen(5)\t \t \n",
    "\n",
    "# a forever loop until we interrupt it or \n",
    "# an error occurs \n",
    "while True: \n",
    "\n",
    "    # Establish connection with client. \n",
    "    c, addr = s.accept()\t \n",
    "    print ('Got connection from', addr )\n",
    "\n",
    "    c.send(packet) \n",
    "\n",
    "    # Close the connection with the client \n",
    "    c.close()\n",
    "\n",
    "    # Breaking once connection closed\n",
    "    break"
   ]
  },
  {
   "cell_type": "code",
   "execution_count": null,
   "metadata": {},
   "outputs": [],
   "source": []
  }
 ],
 "metadata": {
  "kernelspec": {
   "display_name": "qiskit",
   "language": "python",
   "name": "python3"
  },
  "language_info": {
   "codemirror_mode": {
    "name": "ipython",
    "version": 3
   },
   "file_extension": ".py",
   "mimetype": "text/x-python",
   "name": "python",
   "nbconvert_exporter": "python",
   "pygments_lexer": "ipython3",
   "version": "3.10.14"
  }
 },
 "nbformat": 4,
 "nbformat_minor": 2
}
