{
 "cells": [
  {
   "cell_type": "code",
   "execution_count": 205,
   "metadata": {},
   "outputs": [],
   "source": [
    "import netsquid as ns\n",
    "from netsquid.nodes import Node, Network\n",
    "from netsquid.components import QuantumChannel, ClassicalChannel, QuantumProcessor\n",
    "from netsquid.qubits import qubitapi as qapi\n",
    "from netsquid.qubits.qubitapi import create_qubits, operate, reduced_dm, measure\n",
    "from sympy import Matrix\n",
    "from sympy.printing.latex import latex\n",
    "from IPython.display import display, Math\n",
    "\n",
    "# Create nodes for Alice, Charlie, and Bob with enough quantum memory slots\n",
    "alice = Node(\"Alice\", qmemory=QuantumProcessor(\"AliceProcessor\", num_positions=1))\n",
    "charlie = Node(\"Charlie\", qmemory=QuantumProcessor(\"CharlieProcessor\", num_positions=2))\n",
    "bob = Node(\"Bob\", qmemory=QuantumProcessor(\"BobProcessor\", num_positions=1))\n",
    "\n",
    "# Create a network and add the nodes\n",
    "network = Network(\"Quantum Network\")\n",
    "network.add_nodes([alice, charlie, bob])\n",
    "\n",
    "# Create quantum channels between the nodes\n",
    "channel_ac = QuantumChannel(\"Alice_to_Charlie\", length=10)\n",
    "channel_ca = QuantumChannel(\"Charlie_to_Alice\", length=10)\n",
    "channel_cb = QuantumChannel(\"Charlie_to_Bob\", length=10)\n",
    "channel_bc = QuantumChannel(\"Bob_to_Charlie\", length=10)\n",
    "\n",
    "# Add quantum channels to the network\n",
    "network.add_connection(alice, charlie, channel_to=channel_ac, channel_from=channel_ca, label=\"quantum\")\n",
    "network.add_connection(charlie, bob, channel_to=channel_cb, channel_from=channel_bc, label=\"quantum\")\n",
    "\n",
    "# Create classical channels for communication\n",
    "classical_channel_ac = ClassicalChannel(\"Alice_to_Charlie_Classical\", length=10)\n",
    "classical_channel_ca = ClassicalChannel(\"Charlie_to_Alice_Classical\", length=10)\n",
    "classical_channel_cb = ClassicalChannel(\"Charlie_to_Bob_Classical\", length=10)\n",
    "classical_channel_bc = ClassicalChannel(\"Bob_to_Charlie_Classical\", length=10)\n",
    "\n",
    "# Add classical channels to the network\n",
    "network.add_connection(alice, charlie, channel_to=classical_channel_ac, channel_from=classical_channel_ca, label=\"classical\")\n",
    "network.add_connection(charlie, bob, channel_to=classical_channel_cb, channel_from=classical_channel_bc, label=\"classical\")\n",
    "\n",
    "# Function to create and distribute Bell states\n",
    "def create_bell_state(node1, node2, pos1, pos2):\n",
    "    qubits = create_qubits(2)\n",
    "    qapi.operate(qubits[0], ns.H)\n",
    "    qapi.operate([qubits[0], qubits[1]], ns.CX)\n",
    "    node1.qmemory.put(qubits[0], positions=[pos1])\n",
    "    node2.qmemory.put(qubits[1], positions=[pos2])\n",
    "\n",
    "# Create and distribute Bell states\n",
    "create_bell_state(alice, charlie, 0, 0)\n",
    "create_bell_state(bob, charlie, 0, 1)"
   ]
  },
  {
   "cell_type": "code",
   "execution_count": 206,
   "metadata": {},
   "outputs": [
    {
     "name": "stdout",
     "output_type": "stream",
     "text": [
      "Density matrix for Alice:\n"
     ]
    },
    {
     "data": {
      "text/latex": [
       "$\\displaystyle \\left[\\begin{matrix}0.5 & 0\\\\0 & 0.5\\end{matrix}\\right]$"
      ],
      "text/plain": [
       "<IPython.core.display.Math object>"
      ]
     },
     "metadata": {},
     "output_type": "display_data"
    },
    {
     "name": "stdout",
     "output_type": "stream",
     "text": [
      "Density matrix for Charlie:\n"
     ]
    },
    {
     "data": {
      "text/latex": [
       "$\\displaystyle \\left[\\begin{matrix}0.25 & 0 & 0 & 0\\\\0 & 0.25 & 0 & 0\\\\0 & 0 & 0.25 & 0\\\\0 & 0 & 0 & 0.25\\end{matrix}\\right]$"
      ],
      "text/plain": [
       "<IPython.core.display.Math object>"
      ]
     },
     "metadata": {},
     "output_type": "display_data"
    },
    {
     "name": "stdout",
     "output_type": "stream",
     "text": [
      "Density matrix for Bob:\n"
     ]
    },
    {
     "data": {
      "text/latex": [
       "$\\displaystyle \\left[\\begin{matrix}0.5 & 0\\\\0 & 0.5\\end{matrix}\\right]$"
      ],
      "text/plain": [
       "<IPython.core.display.Math object>"
      ]
     },
     "metadata": {},
     "output_type": "display_data"
    },
    {
     "name": "stdout",
     "output_type": "stream",
     "text": [
      "Density matrix for the whole system:\n"
     ]
    },
    {
     "data": {
      "text/latex": [
       "$\\displaystyle \\left[\\begin{array}{cccccccccccccccc}0.25 & 0 & 0 & 0.25 & 0 & 0 & 0 & 0 & 0 & 0 & 0 & 0 & 0.25 & 0 & 0 & 0.25\\\\0 & 0 & 0 & 0 & 0 & 0 & 0 & 0 & 0 & 0 & 0 & 0 & 0 & 0 & 0 & 0\\\\0 & 0 & 0 & 0 & 0 & 0 & 0 & 0 & 0 & 0 & 0 & 0 & 0 & 0 & 0 & 0\\\\0.25 & 0 & 0 & 0.25 & 0 & 0 & 0 & 0 & 0 & 0 & 0 & 0 & 0.25 & 0 & 0 & 0.25\\\\0 & 0 & 0 & 0 & 0 & 0 & 0 & 0 & 0 & 0 & 0 & 0 & 0 & 0 & 0 & 0\\\\0 & 0 & 0 & 0 & 0 & 0 & 0 & 0 & 0 & 0 & 0 & 0 & 0 & 0 & 0 & 0\\\\0 & 0 & 0 & 0 & 0 & 0 & 0 & 0 & 0 & 0 & 0 & 0 & 0 & 0 & 0 & 0\\\\0 & 0 & 0 & 0 & 0 & 0 & 0 & 0 & 0 & 0 & 0 & 0 & 0 & 0 & 0 & 0\\\\0 & 0 & 0 & 0 & 0 & 0 & 0 & 0 & 0 & 0 & 0 & 0 & 0 & 0 & 0 & 0\\\\0 & 0 & 0 & 0 & 0 & 0 & 0 & 0 & 0 & 0 & 0 & 0 & 0 & 0 & 0 & 0\\\\0 & 0 & 0 & 0 & 0 & 0 & 0 & 0 & 0 & 0 & 0 & 0 & 0 & 0 & 0 & 0\\\\0 & 0 & 0 & 0 & 0 & 0 & 0 & 0 & 0 & 0 & 0 & 0 & 0 & 0 & 0 & 0\\\\0.25 & 0 & 0 & 0.25 & 0 & 0 & 0 & 0 & 0 & 0 & 0 & 0 & 0.25 & 0 & 0 & 0.25\\\\0 & 0 & 0 & 0 & 0 & 0 & 0 & 0 & 0 & 0 & 0 & 0 & 0 & 0 & 0 & 0\\\\0 & 0 & 0 & 0 & 0 & 0 & 0 & 0 & 0 & 0 & 0 & 0 & 0 & 0 & 0 & 0\\\\0.25 & 0 & 0 & 0.25 & 0 & 0 & 0 & 0 & 0 & 0 & 0 & 0 & 0.25 & 0 & 0 & 0.25\\end{array}\\right]$"
      ],
      "text/plain": [
       "<IPython.core.display.Math object>"
      ]
     },
     "metadata": {},
     "output_type": "display_data"
    },
    {
     "name": "stdout",
     "output_type": "stream",
     "text": [
      "Density matrix for the whole system:\n"
     ]
    },
    {
     "data": {
      "text/latex": [
       "$\\displaystyle \\left[\\begin{matrix}0.25 & 0 & 0 & 0\\\\0 & 0.25 & 0 & 0\\\\0 & 0 & 0.25 & 0\\\\0 & 0 & 0 & 0.25\\end{matrix}\\right]$"
      ],
      "text/plain": [
       "<IPython.core.display.Math object>"
      ]
     },
     "metadata": {},
     "output_type": "display_data"
    },
    {
     "name": "stdout",
     "output_type": "stream",
     "text": [
      "Quantum network setup complete with Bell states distributed and density matrices printed.\n"
     ]
    }
   ],
   "source": [
    "# Function to print the density matrix of the qubits in a node's quantum memory\n",
    "def print_density_matrix(node, qubit_indices):\n",
    "    qubits = [node.qmemory.peek(i)[0] for i in qubit_indices]\n",
    "    dm = reduced_dm(qubits)\n",
    "    dm_matrix = Matrix(dm)\n",
    "    print(f\"Density matrix for {node.name}:\")\n",
    "    display(Math(latex(dm_matrix)))\n",
    "\n",
    "# Print the density matrices\n",
    "print_density_matrix(alice, [0])\n",
    "print_density_matrix(charlie, [0, 1])\n",
    "print_density_matrix(bob, [0])\n",
    "\n",
    "def print_density_matrix_whole_system(nodes):\n",
    "    qubits = []\n",
    "    for node in nodes:\n",
    "        for i in range(node.qmemory.num_positions):\n",
    "            qubit = node.qmemory.peek(i)[0]\n",
    "            if qubit is not None:\n",
    "                qubits.append(qubit)\n",
    "    dm = reduced_dm(qubits)\n",
    "    dm_matrix = Matrix(dm)\n",
    "    print(\"Density matrix for the whole system:\")\n",
    "    display(Math(latex(dm_matrix)))\n",
    "\n",
    "print_density_matrix_whole_system([alice, charlie, bob])\n",
    "print_density_matrix_whole_system([alice, bob])\n",
    "\n",
    "print(\"Quantum network setup complete with Bell states distributed and density matrices printed.\")"
   ]
  },
  {
   "cell_type": "code",
   "execution_count": 207,
   "metadata": {},
   "outputs": [
    {
     "name": "stdout",
     "output_type": "stream",
     "text": [
      "Bell basis measurement results for Charlie's qubits: 0, 1\n",
      "Density matrix for Charlie:\n"
     ]
    },
    {
     "data": {
      "text/latex": [
       "$\\displaystyle \\left[\\begin{matrix}0 & 0 & 0 & 0\\\\0 & 1.0 & 0 & 0\\\\0 & 0 & 0 & 0\\\\0 & 0 & 0 & 0\\end{matrix}\\right]$"
      ],
      "text/plain": [
       "<IPython.core.display.Math object>"
      ]
     },
     "metadata": {},
     "output_type": "display_data"
    }
   ],
   "source": [
    "# Function to perform Bell basis measurement on Charlie's qubits\n",
    "def bell_basis_measurement(node, pos1, pos2):\n",
    "    qapi.operate([node.qmemory.peek(pos1)[0], node.qmemory.peek(pos2)[0]], ns.CX)\n",
    "    qapi.operate(node.qmemory.peek(pos1)[0], ns.H)\n",
    "    m1, _ = measure(node.qmemory.peek(pos1)[0])\n",
    "    m2, _ = measure(node.qmemory.peek(pos2)[0])\n",
    "    return m1, m2\n",
    "\n",
    "# Perform Bell basis measurement on Charlie's qubits\n",
    "m1, m2 = bell_basis_measurement(charlie, 0, 1)\n",
    "print(f\"Bell basis measurement results for Charlie's qubits: {m1}, {m2}\")\n",
    "print_density_matrix(charlie, [0, 1])\n"
   ]
  },
  {
   "cell_type": "code",
   "execution_count": 208,
   "metadata": {},
   "outputs": [
    {
     "name": "stdout",
     "output_type": "stream",
     "text": [
      "Density matrix for Alice:\n"
     ]
    },
    {
     "data": {
      "text/latex": [
       "$\\displaystyle \\left[\\begin{matrix}0.5 & 0\\\\0 & 0.5\\end{matrix}\\right]$"
      ],
      "text/plain": [
       "<IPython.core.display.Math object>"
      ]
     },
     "metadata": {},
     "output_type": "display_data"
    },
    {
     "name": "stdout",
     "output_type": "stream",
     "text": [
      "Density matrix for Bob:\n"
     ]
    },
    {
     "data": {
      "text/latex": [
       "$\\displaystyle \\left[\\begin{matrix}0.5 & 0\\\\0 & 0.5\\end{matrix}\\right]$"
      ],
      "text/plain": [
       "<IPython.core.display.Math object>"
      ]
     },
     "metadata": {},
     "output_type": "display_data"
    },
    {
     "name": "stdout",
     "output_type": "stream",
     "text": [
      "Density matrix for the whole system:\n"
     ]
    },
    {
     "data": {
      "text/latex": [
       "$\\displaystyle \\left[\\begin{matrix}0 & 0 & 0 & 0\\\\0 & 0.5 & 0.5 & 0\\\\0 & 0.5 & 0.5 & 0\\\\0 & 0 & 0 & 0\\end{matrix}\\right]$"
      ],
      "text/plain": [
       "<IPython.core.display.Math object>"
      ]
     },
     "metadata": {},
     "output_type": "display_data"
    }
   ],
   "source": [
    "def apply_corrections(node, qubit_index, m1, m2):\n",
    "    if m1 == 1:\n",
    "        qapi.operate(node.qmemory.peek(qubit_index)[0], ns.X)\n",
    "    if m2 == 1:\n",
    "        qapi.operate(node.qmemory.peek(qubit_index)[0], ns.Z)\n",
    "\n",
    "# Apply corrections to Alice's and Bob's qubits\n",
    "apply_corrections(alice, 0, m1, m2)\n",
    "apply_corrections(bob, 0, m1, m2)\n",
    "\n",
    "print_density_matrix(alice, [0])\n",
    "print_density_matrix(bob, [0])\n",
    "print_density_matrix_whole_system([alice, bob])"
   ]
  },
  {
   "cell_type": "code",
   "execution_count": 209,
   "metadata": {},
   "outputs": [],
   "source": [
    "from netsquid.protocols import Protocol\n"
   ]
  },
  {
   "cell_type": "code",
   "execution_count": null,
   "metadata": {},
   "outputs": [],
   "source": []
  }
 ],
 "metadata": {
  "kernelspec": {
   "display_name": "qiskit",
   "language": "python",
   "name": "python3"
  },
  "language_info": {
   "codemirror_mode": {
    "name": "ipython",
    "version": 3
   },
   "file_extension": ".py",
   "mimetype": "text/x-python",
   "name": "python",
   "nbconvert_exporter": "python",
   "pygments_lexer": "ipython3",
   "version": "3.10.14"
  }
 },
 "nbformat": 4,
 "nbformat_minor": 2
}
