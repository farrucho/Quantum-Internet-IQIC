{
 "cells": [
  {
   "cell_type": "code",
   "execution_count": 1,
   "metadata": {},
   "outputs": [
    {
     "data": {
      "text/plain": [
       "[Qubit('QS#0-0')]"
      ]
     },
     "execution_count": 1,
     "metadata": {},
     "output_type": "execute_result"
    }
   ],
   "source": [
    "import netsquid as ns\n",
    "qubits = ns.qubits.create_qubits(1)\n",
    "qubits"
   ]
  },
  {
   "cell_type": "code",
   "execution_count": 2,
   "metadata": {},
   "outputs": [
    {
     "data": {
      "text/plain": [
       "array([[1.+0.j, 0.+0.j],\n",
       "       [0.+0.j, 0.+0.j]])"
      ]
     },
     "execution_count": 2,
     "metadata": {},
     "output_type": "execute_result"
    }
   ],
   "source": [
    "qubit = qubits[0]\n",
    "# To check the state is |0> we check its density matrix using reduced_dm():\n",
    "ns.qubits.reduced_dm(qubit)"
   ]
  },
  {
   "cell_type": "code",
   "execution_count": 3,
   "metadata": {},
   "outputs": [
    {
     "data": {
      "text/plain": [
       "array([[0.+0.j, 0.+0.j],\n",
       "       [0.+0.j, 1.+0.j]])"
      ]
     },
     "execution_count": 3,
     "metadata": {},
     "output_type": "execute_result"
    }
   ],
   "source": [
    "ns.qubits.operate(qubit, ns.X)\n",
    "ns.qubits.reduced_dm(qubit)"
   ]
  },
  {
   "cell_type": "code",
   "execution_count": 4,
   "metadata": {},
   "outputs": [
    {
     "name": "stdout",
     "output_type": "stream",
     "text": [
      "Measured |1> with probability 1.0\n"
     ]
    }
   ],
   "source": [
    "measurement_result, prob = ns.qubits.measure(qubit)\n",
    "if measurement_result == 0:\n",
    "    state = \"|0>\"\n",
    "else:\n",
    "    state = \"|1>\"\n",
    "print(f\"Measured {state} with probability {prob:.1f}\")"
   ]
  },
  {
   "cell_type": "code",
   "execution_count": 5,
   "metadata": {},
   "outputs": [
    {
     "name": "stdout",
     "output_type": "stream",
     "text": [
      "Measured |+> with probability 0.5\n"
     ]
    },
    {
     "data": {
      "text/plain": [
       "array([[0.5+0.j, 0.5+0.j],\n",
       "       [0.5+0.j, 0.5+0.j]])"
      ]
     },
     "execution_count": 5,
     "metadata": {},
     "output_type": "execute_result"
    }
   ],
   "source": [
    "measurement_result, prob = ns.qubits.measure(qubit, observable=ns.X)\n",
    "if measurement_result == 0:\n",
    "    state = \"|+>\"\n",
    "else:\n",
    "    state = \"|->\"\n",
    "print(f\"Measured {state} with probability {prob:.1f}\")\n",
    "ns.qubits.reduced_dm(qubit)"
   ]
  },
  {
   "cell_type": "code",
   "execution_count": 6,
   "metadata": {},
   "outputs": [],
   "source": [
    "from netsquid.nodes import Node\n",
    "node_ping = Node(name=\"Ping\")\n",
    "node_pong = Node(name=\"Pong\")"
   ]
  },
  {
   "cell_type": "code",
   "execution_count": 7,
   "metadata": {},
   "outputs": [],
   "source": [
    "from netsquid.components.models import DelayModel\n",
    "\n",
    "class PingPongDelayModel(DelayModel):\n",
    "    def __init__(self, speed_of_light_fraction=0.5, standard_deviation=0.05):\n",
    "        super().__init__()\n",
    "        # (the speed of light is about 300,000 km/s)\n",
    "        self.properties[\"speed\"] = speed_of_light_fraction * 3e5\n",
    "        self.properties[\"std\"] = standard_deviation\n",
    "        self.required_properties = ['length']  # in km\n",
    "\n",
    "    def generate_delay(self, **kwargs):\n",
    "        avg_speed = self.properties[\"speed\"]\n",
    "        std = self.properties[\"std\"]\n",
    "        # The 'rng' property contains a random number generator\n",
    "        # We can use that to generate a random speed\n",
    "        speed = self.properties[\"rng\"].normal(avg_speed, avg_speed * std)\n",
    "        delay = 1e9 * kwargs['length'] / speed  # in nanoseconds\n",
    "        return delay"
   ]
  },
  {
   "cell_type": "code",
   "execution_count": 8,
   "metadata": {},
   "outputs": [],
   "source": [
    "from netsquid.components import QuantumChannel\n",
    "\n",
    "distance = 2.74 / 1000  # default unit of length in channels is km\n",
    "delay_model = PingPongDelayModel()\n",
    "channel_1 = QuantumChannel(name=\"qchannel[ping to pong]\",\n",
    "                           length=distance,\n",
    "                           models={\"delay_model\": delay_model})\n",
    "channel_2 = QuantumChannel(name=\"qchannel[pong to ping]\",\n",
    "                           length=distance,\n",
    "                           models={\"delay_model\": delay_model})"
   ]
  },
  {
   "cell_type": "code",
   "execution_count": 9,
   "metadata": {},
   "outputs": [
    {
     "data": {
      "text/plain": [
       "('qubitIO', 'qubitIO')"
      ]
     },
     "execution_count": 9,
     "metadata": {},
     "output_type": "execute_result"
    }
   ],
   "source": [
    "from netsquid.nodes import DirectConnection\n",
    "\n",
    "connection = DirectConnection(name=\"conn[ping|pong]\",\n",
    "                              channel_AtoB=channel_1,\n",
    "                              channel_BtoA=channel_2)\n",
    "node_ping.connect_to(remote_node=node_pong, connection=connection,\n",
    "                     local_port_name=\"qubitIO\", remote_port_name=\"qubitIO\")"
   ]
  },
  {
   "cell_type": "code",
   "execution_count": 10,
   "metadata": {},
   "outputs": [],
   "source": [
    "from netsquid.protocols import NodeProtocol\n",
    "\n",
    "class PingPongProtocol(NodeProtocol):\n",
    "    def __init__(self, node, observable, qubit=None):\n",
    "        super().__init__(node)\n",
    "        self.observable = observable\n",
    "        self.qubit = qubit\n",
    "        # Define matching pair of strings for pretty printing of basis states:\n",
    "        self.basis = [\"|0>\", \"|1>\"] if observable == ns.Z else [\"|+>\", \"|->\"]\n",
    "\n",
    "    def run(self):\n",
    "        if self.qubit is not None:\n",
    "            # Send (TX) qubit to the other node via port's output:\n",
    "            self.node.ports[\"qubitIO\"].tx_output(self.qubit)\n",
    "        while True:\n",
    "            # Wait (yield) until input has arrived on our port:\n",
    "            yield self.await_port_input(self.node.ports[\"qubitIO\"])\n",
    "            # Receive (RX) qubit on the port's input:\n",
    "            message = self.node.ports[\"qubitIO\"].rx_input()\n",
    "            qubit = message.items[0]\n",
    "            meas, prob = ns.qubits.measure(qubit, observable=self.observable)\n",
    "            print(f\"{ns.sim_time():5.1f}: {self.node.name} measured \"\n",
    "                  f\"{self.basis[meas]} with probability {prob:.2f}\")\n",
    "            # Send (TX) qubit to the other node via connection:\n",
    "            self.node.ports[\"qubitIO\"].tx_output(qubit)"
   ]
  },
  {
   "cell_type": "code",
   "execution_count": 11,
   "metadata": {},
   "outputs": [],
   "source": [
    "qubits = ns.qubits.create_qubits(1)\n",
    "ping_protocol = PingPongProtocol(node_ping, observable=ns.Z, qubit=qubits[0])\n",
    "pong_protocol = PingPongProtocol(node_pong, observable=ns.X)"
   ]
  },
  {
   "cell_type": "code",
   "execution_count": 12,
   "metadata": {},
   "outputs": [
    {
     "name": "stdout",
     "output_type": "stream",
     "text": [
      " 17.4: Pong measured |-> with probability 0.50\n",
      " 35.0: Ping measured |0> with probability 0.50\n",
      " 54.9: Pong measured |-> with probability 0.50\n",
      " 73.2: Ping measured |1> with probability 0.50\n",
      " 90.7: Pong measured |-> with probability 0.50\n",
      "110.2: Ping measured |1> with probability 0.50\n",
      "129.3: Pong measured |-> with probability 0.50\n",
      "146.5: Ping measured |0> with probability 0.50\n",
      "164.7: Pong measured |+> with probability 0.50\n",
      "181.3: Ping measured |0> with probability 0.50\n",
      "199.8: Pong measured |+> with probability 0.50\n",
      "217.8: Ping measured |0> with probability 0.50\n",
      "236.1: Pong measured |-> with probability 0.50\n",
      "254.3: Ping measured |0> with probability 0.50\n",
      "273.5: Pong measured |+> with probability 0.50\n",
      "292.0: Ping measured |0> with probability 0.50\n"
     ]
    }
   ],
   "source": [
    "ping_protocol.start()\n",
    "pong_protocol.start()\n",
    "run_stats = ns.sim_run(duration=300)"
   ]
  },
  {
   "cell_type": "code",
   "execution_count": null,
   "metadata": {},
   "outputs": [],
   "source": []
  }
 ],
 "metadata": {
  "kernelspec": {
   "display_name": "qiskit",
   "language": "python",
   "name": "python3"
  },
  "language_info": {
   "codemirror_mode": {
    "name": "ipython",
    "version": 3
   },
   "file_extension": ".py",
   "mimetype": "text/x-python",
   "name": "python",
   "nbconvert_exporter": "python",
   "pygments_lexer": "ipython3",
   "version": "3.10.14"
  }
 },
 "nbformat": 4,
 "nbformat_minor": 2
}
