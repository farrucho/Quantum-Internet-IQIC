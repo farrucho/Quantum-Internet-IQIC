{
 "cells": [
  {
   "cell_type": "code",
   "execution_count": 37,
   "metadata": {},
   "outputs": [],
   "source": [
    "import netsquid as ns\n",
    "from netsquid.nodes import Node, Network\n",
    "from netsquid.components import QuantumChannel, ClassicalChannel, QuantumProcessor\n",
    "from netsquid.qubits import qubitapi as qapi\n",
    "from netsquid.qubits.qubitapi import create_qubits, operate, reduced_dm, measure\n",
    "from netsquid.qubits.qformalism import DenseDMRepr\n",
    "from sympy import Matrix\n",
    "from sympy.printing.latex import latex\n",
    "from IPython.display import display, Math\n",
    "\n",
    "import socket, pickle\n",
    "import numpy as np"
   ]
  },
  {
   "cell_type": "code",
   "execution_count": 26,
   "metadata": {},
   "outputs": [],
   "source": [
    "def apply_corrections(node, qubit_index, m1, m2):\n",
    "    if m1 == 1:\n",
    "        qapi.operate(node.qmemory.peek(qubit_index)[0], ns.X)\n",
    "    if m2 == 1:\n",
    "        qapi.operate(node.qmemory.peek(qubit_index)[0], ns.Z)\n",
    "\n",
    "# Function to print the density matrix of the qubits in a node's quantum memory\n",
    "def print_density_matrix(node, qubit_indices):\n",
    "    qubits = [node.qmemory.peek(i)[0] for i in qubit_indices]\n",
    "    dm = reduced_dm(qubits)\n",
    "    dm_matrix = Matrix(dm)\n",
    "    print(f\"Density matrix for {node.name}:\")\n",
    "    display(Math(latex(dm_matrix)))\n",
    "    return dm\n",
    "\n",
    "def print_density_matrix_whole_system(nodes):\n",
    "    qubits = []\n",
    "    for node in nodes:\n",
    "        for i in range(node.qmemory.num_positions):\n",
    "            qubit = node.qmemory.peek(i)[0]\n",
    "            if qubit is not None:\n",
    "                qubits.append(qubit)\n",
    "    dm = reduced_dm(qubits)\n",
    "    dm_matrix = Matrix(dm)\n",
    "    print(\"Density matrix for the whole system:\")\n",
    "    display(Math(latex(dm_matrix)))\n",
    "    return dm"
   ]
  },
  {
   "cell_type": "code",
   "execution_count": 27,
   "metadata": {},
   "outputs": [],
   "source": [
    "# Create nodes for Alice, Charlie, and Bob with enough quantum memory slots\n",
    "alice = Node(\"Alice\", qmemory=QuantumProcessor(\"AliceProcessor\", num_positions=1))\n",
    "bob = Node(\"Bob\", qmemory=QuantumProcessor(\"BobProcessor\", num_positions=1))"
   ]
  },
  {
   "cell_type": "code",
   "execution_count": 28,
   "metadata": {},
   "outputs": [],
   "source": [
    "\n",
    "# Create a socket object \n",
    "s = socket.socket()         \n",
    " \n",
    "# Define the port on which you want to connect \n",
    "port = 12346\n",
    "host = 'localhost'            \n",
    " \n",
    "# connect to the server on local computer \n",
    "s.connect((host, port)) \n",
    " \n",
    "# receive data from the server and decoding to get the string.\n",
    "packet = s.recv(2048)\n",
    "unpickled = pickle.loads(packet)\n",
    "alice_state, bob_state = unpickled[0]\n",
    "m1, m2 = unpickled[1]\n",
    "\n",
    "# close the connection \n",
    "s.close()     "
   ]
  },
  {
   "cell_type": "code",
   "execution_count": 40,
   "metadata": {},
   "outputs": [
    {
     "name": "stdout",
     "output_type": "stream",
     "text": [
      "Density matrix for Bob:\n"
     ]
    },
    {
     "data": {
      "text/latex": [
       "$\\displaystyle \\left[\\begin{matrix}0.5 & 0\\\\0 & 0.5\\end{matrix}\\right]$"
      ],
      "text/plain": [
       "<IPython.core.display.Math object>"
      ]
     },
     "metadata": {},
     "output_type": "display_data"
    }
   ],
   "source": [
    "# Create qubits for Alice and Bob\n",
    "alice_qubits = create_qubits(1, no_state=True)\n",
    "bob_qubits = create_qubits(1, no_state=True)\n",
    "\n",
    "# Set the state of the qubits to the density matrices stored in alice and bob\n",
    "qapi.assign_qstate(alice_qubits[0], alice_state, formalism=DenseDMRepr)\n",
    "qapi.assign_qstate(bob_qubits[0], bob_state, formalism=DenseDMRepr)\n",
    "\n",
    "print_density_matrix(bob, [0])\n",
    "\n",
    "# Add the qubits to each quantum memory\n",
    "alice.qmemory.put(alice_qubits, positions=[0])\n",
    "bob.qmemory.put(bob_qubits, positions=[0])"
   ]
  },
  {
   "cell_type": "code",
   "execution_count": 41,
   "metadata": {},
   "outputs": [
    {
     "name": "stdout",
     "output_type": "stream",
     "text": [
      "Density matrix for Alice:\n"
     ]
    },
    {
     "data": {
      "text/latex": [
       "$\\displaystyle \\left[\\begin{matrix}0.5 & 0\\\\0 & 0.5\\end{matrix}\\right]$"
      ],
      "text/plain": [
       "<IPython.core.display.Math object>"
      ]
     },
     "metadata": {},
     "output_type": "display_data"
    },
    {
     "name": "stdout",
     "output_type": "stream",
     "text": [
      "Density matrix for Bob:\n"
     ]
    },
    {
     "data": {
      "text/latex": [
       "$\\displaystyle \\left[\\begin{matrix}0.5 & 0\\\\0 & 0.5\\end{matrix}\\right]$"
      ],
      "text/plain": [
       "<IPython.core.display.Math object>"
      ]
     },
     "metadata": {},
     "output_type": "display_data"
    },
    {
     "name": "stdout",
     "output_type": "stream",
     "text": [
      "Density matrix for the whole system:\n"
     ]
    },
    {
     "data": {
      "text/latex": [
       "$\\displaystyle \\left[\\begin{matrix}0.25 & 0 & 0 & 0\\\\0 & 0.25 & 0 & 0\\\\0 & 0 & 0.25 & 0\\\\0 & 0 & 0 & 0.25\\end{matrix}\\right]$"
      ],
      "text/plain": [
       "<IPython.core.display.Math object>"
      ]
     },
     "metadata": {},
     "output_type": "display_data"
    },
    {
     "data": {
      "text/plain": [
       "array([[0.25+0.j, 0.  +0.j, 0.  +0.j, 0.  +0.j],\n",
       "       [0.  +0.j, 0.25+0.j, 0.  +0.j, 0.  +0.j],\n",
       "       [0.  +0.j, 0.  +0.j, 0.25+0.j, 0.  +0.j],\n",
       "       [0.  +0.j, 0.  +0.j, 0.  +0.j, 0.25+0.j]])"
      ]
     },
     "execution_count": 41,
     "metadata": {},
     "output_type": "execute_result"
    }
   ],
   "source": [
    "# Apply corrections to Alice's and Bob's qubits\n",
    "apply_corrections(alice, 0, m1, m2)\n",
    "apply_corrections(bob, 0, m1, m2)\n",
    "\n",
    "print_density_matrix(alice, [0])\n",
    "print_density_matrix(bob, [0])\n",
    "print_density_matrix_whole_system([alice, bob])"
   ]
  },
  {
   "cell_type": "code",
   "execution_count": null,
   "metadata": {},
   "outputs": [],
   "source": []
  }
 ],
 "metadata": {
  "kernelspec": {
   "display_name": "qiskit",
   "language": "python",
   "name": "python3"
  },
  "language_info": {
   "codemirror_mode": {
    "name": "ipython",
    "version": 3
   },
   "file_extension": ".py",
   "mimetype": "text/x-python",
   "name": "python",
   "nbconvert_exporter": "python",
   "pygments_lexer": "ipython3",
   "version": "3.10.14"
  }
 },
 "nbformat": 4,
 "nbformat_minor": 2
}
